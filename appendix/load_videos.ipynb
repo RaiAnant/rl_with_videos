{
 "cells": [
  {
   "cell_type": "code",
   "execution_count": 1,
   "id": "268ce72d",
   "metadata": {},
   "outputs": [],
   "source": [
    "import gzip\n",
    "import pickle\n",
    "import cv2\n",
    "import numpy as np\n",
    "import matplotlib.pyplot as plt"
   ]
  },
  {
   "cell_type": "code",
   "execution_count": 8,
   "id": "34a412dc",
   "metadata": {},
   "outputs": [],
   "source": [
    "VIDEO_PATH = \"C:/nyu/DRL/final_project/dataset/hand_july_21_26_keep_all_fixed.pkl\"\n",
    "VIDEO_PATH = \"C:/nyu/DRL/final_project/dataset/acrobot-975-1000.pkl\""
   ]
  },
  {
   "cell_type": "code",
   "execution_count": 9,
   "id": "ee24e9d2",
   "metadata": {},
   "outputs": [],
   "source": [
    "with gzip.open(VIDEO_PATH, 'rb') as f:\n",
    "    latest_samples = pickle.load(f)\n",
    "\n",
    "key = list(latest_samples.keys())[0]\n",
    "num_samples = latest_samples[key].shape[0]\n",
    "for field_name, data in latest_samples.items():\n",
    "    assert data.shape[0] == num_samples, data.shape"
   ]
  },
  {
   "cell_type": "code",
   "execution_count": 10,
   "id": "023218b3",
   "metadata": {},
   "outputs": [
    {
     "data": {
      "text/plain": [
       "{'observations': array([[ 9.99774814e-01, -2.12218575e-02,  9.99995887e-01,\n",
       "         -2.87560560e-03, -5.98449521e-02,  7.46908039e-02],\n",
       "        [ 9.99858618e-01, -1.68135595e-02,  9.99692857e-01,\n",
       "         -2.47831829e-02,  1.02115028e-01, -2.88871109e-01],\n",
       "        [ 9.99851763e-01,  1.72169618e-02,  9.93609428e-01,\n",
       "         -1.12872794e-01,  2.28247270e-01, -5.73324144e-01],\n",
       "        ...,\n",
       "        [ 9.52061951e-01, -3.05905282e-01, -8.96845758e-01,\n",
       "         -4.42343384e-01, -3.76007247e+00,  2.17669678e+00],\n",
       "        [ 5.48876524e-01, -8.35903406e-01, -6.05279803e-01,\n",
       "         -7.96012819e-01, -2.91927505e+00,  2.33465409e+00],\n",
       "        [ 1.14867367e-01, -9.93380845e-01, -2.23651469e-01,\n",
       "         -9.74669158e-01, -1.72055185e+00,  1.80743670e+00]], dtype=float32),\n",
       " 'next_observations': array([[ 0.9998586 , -0.01681356,  0.99969286, -0.02478318,  0.10211503,\n",
       "         -0.2888711 ],\n",
       "        [ 0.99985176,  0.01721696,  0.9936094 , -0.11287279,  0.22824727,\n",
       "         -0.57332414],\n",
       "        [ 0.9976076 ,  0.06913112,  0.97060585, -0.24067476,  0.27660945,\n",
       "         -0.6953218 ],\n",
       "        ...,\n",
       "        [ 0.5488765 , -0.8359034 , -0.6052798 , -0.7960128 , -2.919275  ,\n",
       "          2.334654  ],\n",
       "        [ 0.11486737, -0.99338084, -0.22365147, -0.97466916, -1.7205518 ,\n",
       "          1.8074367 ],\n",
       "        [-0.10665464, -0.99429613,  0.04216388, -0.9991107 , -0.5033509 ,\n",
       "          0.82264477]], dtype=float32),\n",
       " 'actions': array([[-0.81562114],\n",
       "        [-0.888118  ],\n",
       "        [-0.81186163],\n",
       "        ...,\n",
       "        [ 0.97142684],\n",
       "        [ 0.99856114],\n",
       "        [ 0.9765781 ]], dtype=float32),\n",
       " 'rewards': array([[-1.],\n",
       "        [-1.],\n",
       "        [-1.],\n",
       "        ...,\n",
       "        [-1.],\n",
       "        [-1.],\n",
       "        [ 0.]], dtype=float32),\n",
       " 'terminals': array([[False],\n",
       "        [False],\n",
       "        [False],\n",
       "        ...,\n",
       "        [False],\n",
       "        [False],\n",
       "        [ True]])}"
      ]
     },
     "execution_count": 10,
     "metadata": {},
     "output_type": "execute_result"
    }
   ],
   "source": [
    "latest_samples"
   ]
  },
  {
   "cell_type": "code",
   "execution_count": 11,
   "id": "016a465f",
   "metadata": {},
   "outputs": [
    {
     "data": {
      "text/plain": [
       "(49962, 6)"
      ]
     },
     "execution_count": 11,
     "metadata": {},
     "output_type": "execute_result"
    }
   ],
   "source": [
    "latest_samples['observations'].shape"
   ]
  },
  {
   "cell_type": "code",
   "execution_count": 14,
   "id": "f6b02aa1",
   "metadata": {},
   "outputs": [
    {
     "data": {
      "text/plain": [
       "array([ 0.99400157,  0.10936582,  0.8300008 , -0.5577622 , -3.431435  ,\n",
       "        5.1303415 ], dtype=float32)"
      ]
     },
     "execution_count": 14,
     "metadata": {},
     "output_type": "execute_result"
    }
   ],
   "source": [
    "latest_samples['observations'][500]"
   ]
  },
  {
   "cell_type": "code",
   "execution_count": 12,
   "id": "ed84ed7d",
   "metadata": {},
   "outputs": [
    {
     "ename": "ValueError",
     "evalue": "cannot reshape array of size 6 into shape (48,48,3)",
     "output_type": "error",
     "traceback": [
      "\u001b[1;31m---------------------------------------------------------------------------\u001b[0m",
      "\u001b[1;31mValueError\u001b[0m                                Traceback (most recent call last)",
      "\u001b[1;32m~\\AppData\\Local\\Temp/ipykernel_19160/1619129216.py\u001b[0m in \u001b[0;36m<module>\u001b[1;34m\u001b[0m\n\u001b[1;32m----> 1\u001b[1;33m \u001b[0mplt\u001b[0m\u001b[1;33m.\u001b[0m\u001b[0mimshow\u001b[0m\u001b[1;33m(\u001b[0m\u001b[0mnp\u001b[0m\u001b[1;33m.\u001b[0m\u001b[0mreshape\u001b[0m\u001b[1;33m(\u001b[0m\u001b[0mlatest_samples\u001b[0m\u001b[1;33m[\u001b[0m\u001b[1;34m'observations'\u001b[0m\u001b[1;33m]\u001b[0m\u001b[1;33m[\u001b[0m\u001b[1;36m100\u001b[0m\u001b[1;33m]\u001b[0m\u001b[1;33m,\u001b[0m \u001b[1;33m(\u001b[0m\u001b[1;36m48\u001b[0m\u001b[1;33m,\u001b[0m \u001b[1;36m48\u001b[0m\u001b[1;33m,\u001b[0m \u001b[1;36m3\u001b[0m\u001b[1;33m)\u001b[0m\u001b[1;33m)\u001b[0m\u001b[1;33m)\u001b[0m\u001b[1;33m\u001b[0m\u001b[1;33m\u001b[0m\u001b[0m\n\u001b[0m",
      "\u001b[1;32m<__array_function__ internals>\u001b[0m in \u001b[0;36mreshape\u001b[1;34m(*args, **kwargs)\u001b[0m\n",
      "\u001b[1;32m~\\anaconda3\\envs\\drl_proj\\lib\\site-packages\\numpy\\core\\fromnumeric.py\u001b[0m in \u001b[0;36mreshape\u001b[1;34m(a, newshape, order)\u001b[0m\n\u001b[0;32m    296\u001b[0m            [5, 6]])\n\u001b[0;32m    297\u001b[0m     \"\"\"\n\u001b[1;32m--> 298\u001b[1;33m     \u001b[1;32mreturn\u001b[0m \u001b[0m_wrapfunc\u001b[0m\u001b[1;33m(\u001b[0m\u001b[0ma\u001b[0m\u001b[1;33m,\u001b[0m \u001b[1;34m'reshape'\u001b[0m\u001b[1;33m,\u001b[0m \u001b[0mnewshape\u001b[0m\u001b[1;33m,\u001b[0m \u001b[0morder\u001b[0m\u001b[1;33m=\u001b[0m\u001b[0morder\u001b[0m\u001b[1;33m)\u001b[0m\u001b[1;33m\u001b[0m\u001b[1;33m\u001b[0m\u001b[0m\n\u001b[0m\u001b[0;32m    299\u001b[0m \u001b[1;33m\u001b[0m\u001b[0m\n\u001b[0;32m    300\u001b[0m \u001b[1;33m\u001b[0m\u001b[0m\n",
      "\u001b[1;32m~\\anaconda3\\envs\\drl_proj\\lib\\site-packages\\numpy\\core\\fromnumeric.py\u001b[0m in \u001b[0;36m_wrapfunc\u001b[1;34m(obj, method, *args, **kwds)\u001b[0m\n\u001b[0;32m     55\u001b[0m \u001b[1;33m\u001b[0m\u001b[0m\n\u001b[0;32m     56\u001b[0m     \u001b[1;32mtry\u001b[0m\u001b[1;33m:\u001b[0m\u001b[1;33m\u001b[0m\u001b[1;33m\u001b[0m\u001b[0m\n\u001b[1;32m---> 57\u001b[1;33m         \u001b[1;32mreturn\u001b[0m \u001b[0mbound\u001b[0m\u001b[1;33m(\u001b[0m\u001b[1;33m*\u001b[0m\u001b[0margs\u001b[0m\u001b[1;33m,\u001b[0m \u001b[1;33m**\u001b[0m\u001b[0mkwds\u001b[0m\u001b[1;33m)\u001b[0m\u001b[1;33m\u001b[0m\u001b[1;33m\u001b[0m\u001b[0m\n\u001b[0m\u001b[0;32m     58\u001b[0m     \u001b[1;32mexcept\u001b[0m \u001b[0mTypeError\u001b[0m\u001b[1;33m:\u001b[0m\u001b[1;33m\u001b[0m\u001b[1;33m\u001b[0m\u001b[0m\n\u001b[0;32m     59\u001b[0m         \u001b[1;31m# A TypeError occurs if the object does have such a method in its\u001b[0m\u001b[1;33m\u001b[0m\u001b[1;33m\u001b[0m\u001b[1;33m\u001b[0m\u001b[0m\n",
      "\u001b[1;31mValueError\u001b[0m: cannot reshape array of size 6 into shape (48,48,3)"
     ]
    }
   ],
   "source": [
    "plt.imshow(np.reshape(latest_samples['observations'][100], (48, 48, 3)))"
   ]
  },
  {
   "cell_type": "code",
   "execution_count": 7,
   "id": "8d18ba25",
   "metadata": {},
   "outputs": [
    {
     "name": "stdout",
     "output_type": "stream",
     "text": [
      "(20771, 6912)\n",
      "(20771, 6912)\n",
      "(20771, 1)\n",
      "(20771, 1)\n",
      "(20771, 2)\n"
     ]
    }
   ],
   "source": [
    "for field_name, data in latest_samples.items():\n",
    "    print(data.shape)"
   ]
  },
  {
   "cell_type": "code",
   "execution_count": null,
   "id": "07c1cbdf",
   "metadata": {},
   "outputs": [],
   "source": []
  }
 ],
 "metadata": {
  "kernelspec": {
   "display_name": "Python 3 (ipykernel)",
   "language": "python",
   "name": "python3"
  },
  "language_info": {
   "codemirror_mode": {
    "name": "ipython",
    "version": 3
   },
   "file_extension": ".py",
   "mimetype": "text/x-python",
   "name": "python",
   "nbconvert_exporter": "python",
   "pygments_lexer": "ipython3",
   "version": "3.7.11"
  }
 },
 "nbformat": 4,
 "nbformat_minor": 5
}
