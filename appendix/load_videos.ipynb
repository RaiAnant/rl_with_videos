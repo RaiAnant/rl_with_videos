{
 "cells": [
  {
   "cell_type": "code",
   "execution_count": 1,
   "id": "268ce72d",
   "metadata": {},
   "outputs": [],
   "source": [
    "import gzip\n",
    "import pickle\n",
    "import cv2\n",
    "import numpy as np\n",
    "import matplotlib.pyplot as plt"
   ]
  },
  {
   "cell_type": "code",
   "execution_count": 2,
   "id": "34a412dc",
   "metadata": {},
   "outputs": [],
   "source": [
    "VIDEO_PATH = \"C:/nyu/DRL/final_project/dataset/hand_july_21_26_keep_all_fixed.pkl\"\n",
    "# VIDEO_PATH = \"C:/nyu/DRL/final_project/dataset/acrobot-975-1000.pkl\""
   ]
  },
  {
   "cell_type": "code",
   "execution_count": 3,
   "id": "ee24e9d2",
   "metadata": {},
   "outputs": [],
   "source": [
    "with gzip.open(VIDEO_PATH, 'rb') as f:\n",
    "    latest_samples = pickle.load(f)\n",
    "\n",
    "key = list(latest_samples.keys())[0]\n",
    "num_samples = latest_samples[key].shape[0]\n",
    "for field_name, data in latest_samples.items():\n",
    "    assert data.shape[0] == num_samples, data.shape"
   ]
  },
  {
   "cell_type": "code",
   "execution_count": 4,
   "id": "023218b3",
   "metadata": {},
   "outputs": [
    {
     "data": {
      "text/plain": [
       "{'observations': array([[0.        , 0.        , 0.        , ..., 0.76078431, 0.50196078,\n",
       "         0.25490196],\n",
       "        [0.        , 0.        , 0.        , ..., 0.76078431, 0.50196078,\n",
       "         0.25490196],\n",
       "        [0.        , 0.        , 0.        , ..., 0.76078431, 0.50196078,\n",
       "         0.25490196],\n",
       "        ...,\n",
       "        [0.        , 0.        , 0.        , ..., 0.38823529, 0.26666667,\n",
       "         0.19215686],\n",
       "        [0.        , 0.        , 0.        , ..., 0.41176471, 0.27843137,\n",
       "         0.20784314],\n",
       "        [0.        , 0.        , 0.        , ..., 0.41568627, 0.27843137,\n",
       "         0.21960784]]),\n",
       " 'next_observations': array([[0.        , 0.        , 0.        , ..., 0.76078431, 0.50196078,\n",
       "         0.25490196],\n",
       "        [0.        , 0.        , 0.        , ..., 0.76078431, 0.50196078,\n",
       "         0.25490196],\n",
       "        [0.        , 0.        , 0.        , ..., 0.76078431, 0.50196078,\n",
       "         0.25490196],\n",
       "        ...,\n",
       "        [0.        , 0.        , 0.        , ..., 0.41176471, 0.27843137,\n",
       "         0.20784314],\n",
       "        [0.        , 0.        , 0.        , ..., 0.41568627, 0.27843137,\n",
       "         0.21960784],\n",
       "        [0.        , 0.        , 0.        , ..., 0.41568627, 0.27843137,\n",
       "         0.21960784]]),\n",
       " 'rewards': array([[0.],\n",
       "        [0.],\n",
       "        [0.],\n",
       "        ...,\n",
       "        [0.],\n",
       "        [0.],\n",
       "        [0.]]),\n",
       " 'terminals': array([[0],\n",
       "        [0],\n",
       "        [0],\n",
       "        ...,\n",
       "        [0],\n",
       "        [0],\n",
       "        [1]], dtype=int64),\n",
       " 'actions': array([[0., 0.],\n",
       "        [0., 0.],\n",
       "        [0., 0.],\n",
       "        ...,\n",
       "        [0., 0.],\n",
       "        [0., 0.],\n",
       "        [0., 0.]])}"
      ]
     },
     "execution_count": 4,
     "metadata": {},
     "output_type": "execute_result"
    }
   ],
   "source": [
    "latest_samples"
   ]
  },
  {
   "cell_type": "code",
   "execution_count": 11,
   "id": "016a465f",
   "metadata": {},
   "outputs": [
    {
     "data": {
      "text/plain": [
       "(49962, 6)"
      ]
     },
     "execution_count": 11,
     "metadata": {},
     "output_type": "execute_result"
    }
   ],
   "source": [
    "latest_samples['observations'].shape"
   ]
  },
  {
   "cell_type": "code",
   "execution_count": 14,
   "id": "f6b02aa1",
   "metadata": {},
   "outputs": [
    {
     "data": {
      "text/plain": [
       "array([ 0.99400157,  0.10936582,  0.8300008 , -0.5577622 , -3.431435  ,\n",
       "        5.1303415 ], dtype=float32)"
      ]
     },
     "execution_count": 14,
     "metadata": {},
     "output_type": "execute_result"
    }
   ],
   "source": [
    "latest_samples['observations'][500]"
   ]
  },
  {
   "cell_type": "code",
   "execution_count": 6,
   "id": "ed84ed7d",
   "metadata": {},
   "outputs": [
    {
     "data": {
      "text/plain": [
       "<matplotlib.image.AxesImage at 0x1b1a6200988>"
      ]
     },
     "execution_count": 6,
     "metadata": {},
     "output_type": "execute_result"
    },
    {
     "data": {
      "image/png": "[encoded data removed]",
      "text/plain": [
       "<Figure size 432x288 with 1 Axes>"
      ]
     },
     "metadata": {
      "needs_background": "light"
     },
     "output_type": "display_data"
    }
   ],
   "source": [
    "plt.imshow(np.reshape(latest_samples['observations'][1], (48, 48, 3)))"
   ]
  },
  {
   "cell_type": "code",
   "execution_count": 14,
   "id": "25ccaf46",
   "metadata": {},
   "outputs": [],
   "source": [
    "for i in latest_samples['rewards']:\n",
    "    if(i > 0):\n",
    "        print(i)"
   ]
  },
  {
   "cell_type": "code",
   "execution_count": 7,
   "id": "8d18ba25",
   "metadata": {},
   "outputs": [
    {
     "name": "stdout",
     "output_type": "stream",
     "text": [
      "(20771, 6912)\n",
      "(20771, 6912)\n",
      "(20771, 1)\n",
      "(20771, 1)\n",
      "(20771, 2)\n"
     ]
    }
   ],
   "source": [
    "for field_name, data in latest_samples.items():\n",
    "    print(data.shape)"
   ]
  },
  {
   "cell_type": "code",
   "execution_count": null,
   "id": "07c1cbdf",
   "metadata": {},
   "outputs": [],
   "source": []
  }
 ],
 "metadata": {
  "kernelspec": {
   "display_name": "Python 3 (ipykernel)",
   "language": "python",
   "name": "python3"
  },
  "language_info": {
   "codemirror_mode": {
    "name": "ipython",
    "version": 3
   },
   "file_extension": ".py",
   "mimetype": "text/x-python",
   "name": "python",
   "nbconvert_exporter": "python",
   "pygments_lexer": "ipython3",
   "version": "3.7.11"
  }
 },
 "nbformat": 4,
 "nbformat_minor": 5
}
