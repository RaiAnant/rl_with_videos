{
 "cells": [
  {
   "cell_type": "code",
   "execution_count": 1,
   "id": "d9914d0f",
   "metadata": {},
   "outputs": [
    {
     "name": "stderr",
     "output_type": "stream",
     "text": [
      "C:\\anaconda3\\envs\\RLV\\lib\\site-packages\\tensorflow\\python\\framework\\dtypes.py:526: FutureWarning: Passing (type, 1) or '1type' as a synonym of type is deprecated; in a future version of numpy, it will be understood as (type, (1,)) / '(1,)type'.\n",
      "  _np_qint8 = np.dtype([(\"qint8\", np.int8, 1)])\n",
      "C:\\anaconda3\\envs\\RLV\\lib\\site-packages\\tensorflow\\python\\framework\\dtypes.py:527: FutureWarning: Passing (type, 1) or '1type' as a synonym of type is deprecated; in a future version of numpy, it will be understood as (type, (1,)) / '(1,)type'.\n",
      "  _np_quint8 = np.dtype([(\"quint8\", np.uint8, 1)])\n",
      "C:\\anaconda3\\envs\\RLV\\lib\\site-packages\\tensorflow\\python\\framework\\dtypes.py:528: FutureWarning: Passing (type, 1) or '1type' as a synonym of type is deprecated; in a future version of numpy, it will be understood as (type, (1,)) / '(1,)type'.\n",
      "  _np_qint16 = np.dtype([(\"qint16\", np.int16, 1)])\n",
      "C:\\anaconda3\\envs\\RLV\\lib\\site-packages\\tensorflow\\python\\framework\\dtypes.py:529: FutureWarning: Passing (type, 1) or '1type' as a synonym of type is deprecated; in a future version of numpy, it will be understood as (type, (1,)) / '(1,)type'.\n",
      "  _np_quint16 = np.dtype([(\"quint16\", np.uint16, 1)])\n",
      "C:\\anaconda3\\envs\\RLV\\lib\\site-packages\\tensorflow\\python\\framework\\dtypes.py:530: FutureWarning: Passing (type, 1) or '1type' as a synonym of type is deprecated; in a future version of numpy, it will be understood as (type, (1,)) / '(1,)type'.\n",
      "  _np_qint32 = np.dtype([(\"qint32\", np.int32, 1)])\n",
      "C:\\anaconda3\\envs\\RLV\\lib\\site-packages\\tensorflow\\python\\framework\\dtypes.py:535: FutureWarning: Passing (type, 1) or '1type' as a synonym of type is deprecated; in a future version of numpy, it will be understood as (type, (1,)) / '(1,)type'.\n",
      "  np_resource = np.dtype([(\"resource\", np.ubyte, 1)])\n"
     ]
    }
   ],
   "source": [
    "import tensorflow as tf\n",
    "from tensorflow import keras\n",
    "\n",
    "\n",
    "from rl_with_videos.utils.keras import PicklableKerasModel\n",
    "from rl_with_videos.utils.gradient_reversal import gradient_reversal"
   ]
  },
  {
   "cell_type": "code",
   "execution_count": 2,
   "id": "e25b63c0",
   "metadata": {},
   "outputs": [],
   "source": [
    "from rl_with_videos.preprocessors.convnet import convnet_preprocessor"
   ]
  },
  {
   "cell_type": "code",
   "execution_count": 3,
   "id": "55a6a3c4",
   "metadata": {},
   "outputs": [],
   "source": [
    "from rl_with_videos.preprocessors.convnet import convnet_preprocessor_softmax"
   ]
  },
  {
   "cell_type": "code",
   "execution_count": 4,
   "id": "946aa91f",
   "metadata": {},
   "outputs": [],
   "source": [
    "(x_train, y_train), (x_test, y_test) = keras.datasets.cifar10.load_data()\n",
    "assert x_train.shape == (50000, 32, 32, 3)\n",
    "assert x_test.shape == (10000, 32, 32, 3)\n",
    "assert y_train.shape == (50000, 1)\n",
    "assert y_test.shape == (10000, 1)"
   ]
  },
  {
   "cell_type": "code",
   "execution_count": 5,
   "id": "c300b994",
   "metadata": {},
   "outputs": [
    {
     "name": "stdout",
     "output_type": "stream",
     "text": [
      "Training matrix shape (50000, 3072)\n",
      "Testing matrix shape (10000, 3072)\n"
     ]
    }
   ],
   "source": [
    "x_train = x_train.reshape(50000, 3072) # reshape 60,000 28 x 28 matrices into 60,000 784-length vectors.\n",
    "x_test = x_test.reshape(10000, 3072)   # reshape 10,000 28 x 28 matrices into 10,000 784-length vectors.\n",
    "x_train = x_train.astype('float32')   # change integers to 32-bit floating point numbers\n",
    "x_test = x_test.astype('float32')\n",
    "\n",
    "x_train /= 255                        # normalize each value for each pixel for the entire vector for each input\n",
    "x_test /= 255\n",
    "\n",
    "print(\"Training matrix shape\", x_train.shape)\n",
    "print(\"Testing matrix shape\", x_test.shape)"
   ]
  },
  {
   "cell_type": "code",
   "execution_count": 6,
   "id": "d747cce2",
   "metadata": {},
   "outputs": [],
   "source": [
    "num_classes = 10 # number of unique digits\n",
    "\n",
    "y_train = keras.utils.to_categorical(y_train, num_classes)\n",
    "y_test = keras.utils.to_categorical(y_test, num_classes)"
   ]
  },
  {
   "cell_type": "code",
   "execution_count": 7,
   "id": "6d938d19",
   "metadata": {},
   "outputs": [
    {
     "name": "stdout",
     "output_type": "stream",
     "text": [
      "kwargs: {}\n",
      "WARNING:tensorflow:From C:\\anaconda3\\envs\\RLV\\lib\\site-packages\\tensorflow\\python\\ops\\resource_variable_ops.py:435: colocate_with (from tensorflow.python.framework.ops) is deprecated and will be removed in a future version.\n",
      "Instructions for updating:\n",
      "Colocations handled automatically by placer.\n",
      "kwargs: {}\n",
      "name: feedforward_model\n",
      "inputs: [<tf.Tensor 'input_2:0' shape=(?, 2048) dtype=float32>]\n"
     ]
    }
   ],
   "source": [
    "model = convnet_preprocessor_softmax([(3072,)], (32,32,3), 10)"
   ]
  },
  {
   "cell_type": "code",
   "execution_count": 8,
   "id": "d43824e8",
   "metadata": {},
   "outputs": [
    {
     "name": "stdout",
     "output_type": "stream",
     "text": [
      "__________________________________________________________________________________________________\n",
      "Layer (type)                    Output Shape         Param #     Connected to                     \n",
      "==================================================================================================\n",
      "input_1 (InputLayer)            (None, 3072)         0                                            \n",
      "__________________________________________________________________________________________________\n",
      "lambda (Lambda)                 (None, 3072)         0           input_1[0][0]                    \n",
      "__________________________________________________________________________________________________\n",
      "lambda_1 (Lambda)               [(None, 3072), (None 0           lambda[0][0]                     \n",
      "__________________________________________________________________________________________________\n",
      "reshape (Reshape)               (None, 32, 32, 3)    0           lambda_1[0][0]                   \n",
      "__________________________________________________________________________________________________\n",
      "conv2d (Conv2D)                 (None, 32, 32, 32)   2432        reshape[0][0]                    \n",
      "__________________________________________________________________________________________________\n",
      "max_pooling2d (MaxPooling2D)    (None, 16, 16, 32)   0           conv2d[0][0]                     \n",
      "__________________________________________________________________________________________________\n",
      "conv2d_1 (Conv2D)               (None, 16, 16, 32)   25632       max_pooling2d[0][0]              \n",
      "__________________________________________________________________________________________________\n",
      "max_pooling2d_1 (MaxPooling2D)  (None, 8, 8, 32)     0           conv2d_1[0][0]                   \n",
      "__________________________________________________________________________________________________\n",
      "flatten (Flatten)               (None, 2048)         0           max_pooling2d_1[0][0]            \n",
      "__________________________________________________________________________________________________\n",
      "lambda_2 (Lambda)               (None, 2048)         0           flatten[0][0]                    \n",
      "                                                                 lambda_1[0][1]                   \n",
      "__________________________________________________________________________________________________\n",
      "feedforward_model (PicklableKer (None, 10)           135946      lambda_2[0][0]                   \n",
      "==================================================================================================\n",
      "Total params: 164,010\n",
      "Trainable params: 164,010\n",
      "Non-trainable params: 0\n",
      "__________________________________________________________________________________________________\n"
     ]
    }
   ],
   "source": [
    "model.summary()"
   ]
  },
  {
   "cell_type": "code",
   "execution_count": null,
   "id": "52d66a43",
   "metadata": {
    "pycharm": {
     "is_executing": true
    }
   },
   "outputs": [
    {
     "name": "stdout",
     "output_type": "stream",
     "text": [
      "WARNING:tensorflow:From C:\\anaconda3\\envs\\RLV\\lib\\site-packages\\tensorflow\\python\\ops\\math_ops.py:3066: to_int32 (from tensorflow.python.ops.math_ops) is deprecated and will be removed in a future version.\n",
      "Instructions for updating:\n",
      "Use tf.cast instead.\n",
      "Epoch 1/10\n"
     ]
    }
   ],
   "source": [
    "model.compile(loss='categorical_crossentropy', optimizer='adam', metrics=['accuracy'])\n",
    "\n",
    "model.fit(x_train, y_train,\n",
    "          batch_size=128, epochs=10,\n",
    "          verbose=1)"
   ]
  },
  {
   "cell_type": "code",
   "execution_count": 10,
   "id": "2d11cefa",
   "metadata": {
    "pycharm": {
     "is_executing": true
    }
   },
   "outputs": [
    {
     "name": "stdout",
     "output_type": "stream",
     "text": [
      "# packages in environment at C:\\anaconda3\\envs\\RLV:\n",
      "#\n",
      "# Name                    Version                   Build  Channel\n",
      "absl-py                   0.7.1                    pypi_0    pypi\n",
      "aiohttp                   3.5.4                    pypi_0    pypi\n",
      "argon2-cffi               20.1.0           py36h2bbff1b_1  \n",
      "asn1crypto                0.24.0                   pypi_0    pypi\n",
      "astor                     0.7.1                    pypi_0    pypi\n",
      "async-timeout             3.0.1                    pypi_0    pypi\n",
      "async_generator           1.10             py36h28b3542_0  \n",
      "atari-py                  0.2.6                    pypi_0    pypi\n",
      "atomicwrites              1.2.1                    pypi_0    pypi\n",
      "attrs                     18.2.0                   pypi_0    pypi\n",
      "awscli                    1.16.140                 pypi_0    pypi\n",
      "backcall                  0.1.0                    pypi_0    pypi\n",
      "beautifulsoup4            4.10.0                   pypi_0    pypi\n",
      "bleach                    4.0.0              pyhd3eb1b0_0  \n",
      "boto                      2.49.0                   pypi_0    pypi\n",
      "boto3                     1.9.130                  pypi_0    pypi\n",
      "botocore                  1.12.130                 pypi_0    pypi\n",
      "ca-certificates           2021.10.26           haa95532_2  \n",
      "cachetools                3.0.0                    pypi_0    pypi\n",
      "certifi                   2020.4.5.1               pypi_0    pypi\n",
      "cffi                      1.11.5                   pypi_0    pypi\n",
      "chardet                   3.0.4                    pypi_0    pypi\n",
      "click                     7.0                      pypi_0    pypi\n",
      "cloudpickle               1.2.2                    pypi_0    pypi\n",
      "colorama                  0.3.9                    pypi_0    pypi\n",
      "cryptography              2.3.1                    pypi_0    pypi\n",
      "cudatoolkit               10.0.130                      0  \n",
      "cudnn                     7.6.5                cuda10.0_0  \n",
      "cycler                    0.10.0                   pypi_0    pypi\n",
      "cython                    0.29.1                   pypi_0    pypi\n",
      "dask                      1.0.0                    pypi_0    pypi\n",
      "decorator                 4.3.0                    pypi_0    pypi\n",
      "deepdiff                  3.3.0                    pypi_0    pypi\n",
      "defusedxml                0.7.1              pyhd3eb1b0_0  \n",
      "distro                    1.5.0                    pypi_0    pypi\n",
      "docutils                  0.14                     pypi_0    pypi\n",
      "entrypoints               0.3                      py36_0  \n",
      "fasteners                 0.15                     pypi_0    pypi\n",
      "filelock                  3.0.12                   pypi_0    pypi\n",
      "flatbuffers               1.10                     pypi_0    pypi\n",
      "funcsigs                  1.0.2                    pypi_0    pypi\n",
      "future                    0.17.1                   pypi_0    pypi\n",
      "gast                      0.2.0                    pypi_0    pypi\n",
      "gitdb2                    2.0.5                    pypi_0    pypi\n",
      "gitpython                 2.1.11                   pypi_0    pypi\n",
      "glfw                      1.7.0                    pypi_0    pypi\n",
      "google                    3.0.0                    pypi_0    pypi\n",
      "google-api-python-client  1.7.5                    pypi_0    pypi\n",
      "google-auth               1.6.1                    pypi_0    pypi\n",
      "google-auth-httplib2      0.0.3                    pypi_0    pypi\n",
      "google-compute-engine     2.8.13                   pypi_0    pypi\n",
      "grpcio                    1.16.1                   pypi_0    pypi\n",
      "gtimer                    1.0.0b5                  pypi_0    pypi\n",
      "gym                       0.15.4                   pypi_0    pypi\n",
      "h5py                      2.8.0                    pypi_0    pypi\n",
      "httplib2                  0.12.0                   pypi_0    pypi\n",
      "icu                       58.2                 ha925a31_3  \n",
      "idna                      2.7                      pypi_0    pypi\n",
      "idna-ssl                  1.1.0                    pypi_0    pypi\n",
      "imageio                   2.4.1                    pypi_0    pypi\n",
      "importlib-metadata        1.6.0                    pypi_0    pypi\n",
      "importlib_metadata        4.8.1                hd3eb1b0_0  \n",
      "ipykernel                 5.3.4            py36h5ca1d4c_0  \n",
      "ipython                   7.3.0                    pypi_0    pypi\n",
      "ipython_genutils          0.2.0              pyhd3eb1b0_1  \n",
      "ipywidgets                7.6.5              pyhd3eb1b0_1  \n",
      "jedi                      0.17.0                   py36_0  \n",
      "jinja2                    3.0.2              pyhd3eb1b0_0  \n",
      "jmespath                  0.9.3                    pypi_0    pypi\n",
      "jpeg                      9d                   h2bbff1b_0  \n",
      "jsonpickle                1.4.1                    pypi_0    pypi\n",
      "jsonschema                3.2.0              pyhd3eb1b0_2  \n",
      "jupyter                   1.0.0                    py36_7  \n",
      "jupyter_client            7.0.6              pyhd3eb1b0_0  \n",
      "jupyter_console           6.4.0              pyhd3eb1b0_0  \n",
      "jupyter_core              4.8.1            py36haa95532_0  \n",
      "jupyterlab_pygments       0.1.2                      py_0  \n",
      "jupyterlab_widgets        1.0.0              pyhd3eb1b0_1  \n",
      "keras-applications        1.0.6                    pypi_0    pypi\n",
      "keras-preprocessing       1.0.5                    pypi_0    pypi\n",
      "kiwisolver                1.0.1                    pypi_0    pypi\n",
      "libpng                    1.6.37               h2a8f88b_0  \n",
      "lockfile                  0.12.2                   pypi_0    pypi\n",
      "lz4                       3.0.2                    pypi_0    pypi\n",
      "m2w64-gcc-libgfortran     5.3.0                         6  \n",
      "m2w64-gcc-libs            5.3.0                         7  \n",
      "m2w64-gcc-libs-core       5.3.0                         7  \n",
      "m2w64-gmp                 6.1.0                         2  \n",
      "m2w64-libwinpthread-git   5.0.0.4634.697f757               2  \n",
      "markdown                  3.0.1                    pypi_0    pypi\n",
      "markupsafe                2.0.1            py36h2bbff1b_0  \n",
      "matplotlib                3.0.2                    pypi_0    pypi\n",
      "metaworld                 0.0.0                     dev_0    <develop>\n",
      "mistune                   0.8.4            py36he774522_0  \n",
      "mock                      4.0.2                    pypi_0    pypi\n",
      "monotonic                 1.5                      pypi_0    pypi\n",
      "more-itertools            4.3.0                    pypi_0    pypi\n",
      "msgpack                   1.0.2                    pypi_0    pypi\n",
      "msys2-conda-epoch         20160418                      1  \n",
      "mujoco-py                 2.0.2.13                 pypi_0    pypi\n",
      "multidict                 4.7.5                    pypi_0    pypi\n",
      "multiworld                0.0.0                     dev_0    <develop>\n",
      "nbclient                  0.5.3              pyhd3eb1b0_0  \n",
      "nbconvert                 6.0.7                    py36_0  \n",
      "nbformat                  5.1.3              pyhd3eb1b0_0  \n",
      "nest-asyncio              1.5.1              pyhd3eb1b0_0  \n",
      "networkx                  2.2                      pypi_0    pypi\n",
      "notebook                  6.4.3            py36haa95532_0  \n",
      "numpy                     1.19.0                   pypi_0    pypi\n",
      "opencv-python             4.5.3.56                 pypi_0    pypi\n",
      "openssl                   1.1.1l               h2bbff1b_0  \n",
      "packaging                 21.0               pyhd3eb1b0_0  \n",
      "pandas                    0.23.4                   pypi_0    pypi\n",
      "pandoc                    2.12                 haa95532_0  \n",
      "pandocfilters             1.4.3            py36haa95532_1  \n",
      "parso                     0.7.0                    pypi_0    pypi\n",
      "pexpect                   4.8.0                    pypi_0    pypi\n",
      "pickleshare               0.7.5           pyhd3eb1b0_1003  \n",
      "pillow                    5.3.0                    pypi_0    pypi\n",
      "pip                       21.0.1           py36haa95532_0  \n",
      "plotly                    1.9.6                    pypi_0    pypi\n",
      "pluggy                    0.8.0                    pypi_0    pypi\n",
      "prometheus_client         0.12.0             pyhd3eb1b0_0  \n",
      "prompt-toolkit            2.0.10                   pypi_0    pypi\n",
      "prompt_toolkit            3.0.20               hd3eb1b0_0  \n",
      "protobuf                  3.8.0                    pypi_0    pypi\n",
      "psutil                    5.4.8                    pypi_0    pypi\n",
      "ptyprocess                0.6.0                    pypi_0    pypi\n",
      "py                        1.7.0                    pypi_0    pypi\n",
      "py-spy                    0.3.3                    pypi_0    pypi\n",
      "pyasn1                    0.4.4                    pypi_0    pypi\n",
      "pyasn1-modules            0.2.2                    pypi_0    pypi\n",
      "pycosat                   0.6.3                    pypi_0    pypi\n",
      "pycparser                 2.19                     pypi_0    pypi\n",
      "pyglet                    1.3.2                    pypi_0    pypi\n",
      "pygments                  2.6.1                    pypi_0    pypi\n",
      "pyopengl                  3.1.5                    pypi_0    pypi\n",
      "pyopengl-accelerate       3.1.0                    pypi_0    pypi\n",
      "pyopenssl                 18.0.0                   pypi_0    pypi\n",
      "pyparsing                 2.3.0                    pypi_0    pypi\n",
      "pyqt                      5.9.2            py36h6538335_2  \n",
      "pyquaternion              0.9.5                    pypi_0    pypi\n",
      "pyrsistent                0.18.0                   pypi_0    pypi\n",
      "pysocks                   1.6.8                    pypi_0    pypi\n",
      "pytest                    4.0.1                    pypi_0    pypi\n",
      "python                    3.6.13               h3758d61_0  \n",
      "python-dateutil           2.7.5                    pypi_0    pypi\n",
      "pytz                      2018.7                   pypi_0    pypi\n",
      "pywavelets                1.0.1                    pypi_0    pypi\n",
      "pywin32                   228              py36hbaba5e8_1  \n",
      "pywinpty                  0.5.7                    py36_0  \n",
      "pyyaml                    3.13                     pypi_0    pypi\n",
      "pyzmq                     22.2.1           py36hd77b12b_1  \n",
      "qt                        5.9.7            vc14h73c81de_0  \n",
      "qtconsole                 5.1.1              pyhd3eb1b0_0  \n",
      "qtpy                      1.10.0             pyhd3eb1b0_0  \n",
      "ray                       0.8.6                    pypi_0    pypi\n",
      "redis                     3.4.0                    pypi_0    pypi\n",
      "requests                  2.20.1                   pypi_0    pypi\n",
      "rl-with-videos            0.0.1                     dev_0    <develop>\n",
      "rsa                       3.4.2                    pypi_0    pypi\n",
      "ruamel-yaml               0.15.46                  pypi_0    pypi\n",
      "s3transfer                0.2.0                    pypi_0    pypi\n",
      "scikit-image              0.14.2                   pypi_0    pypi\n",
      "scikit-learn              0.20.1                   pypi_0    pypi\n",
      "scipy                     1.1.0                    pypi_0    pypi\n",
      "send2trash                1.8.0              pyhd3eb1b0_1  \n",
      "serializable              0.1.0                     dev_0    <develop>\n",
      "setproctitle              1.1.10                   pypi_0    pypi\n",
      "setuptools                58.0.4           py36haa95532_0  \n",
      "sip                       4.19.8           py36h6538335_0  \n",
      "six                       1.11.0                   pypi_0    pypi\n",
      "smmap2                    2.0.5                    pypi_0    pypi\n",
      "soupsieve                 2.2.1                    pypi_0    pypi\n",
      "sqlite                    3.36.0               h2bbff1b_0  \n",
      "tabulate                  0.8.9                    pypi_0    pypi\n",
      "tensorboard               1.13.1                   pypi_0    pypi\n",
      "tensorboardx              2.4                      pypi_0    pypi\n",
      "tensorflow-estimator      1.13.0                   pypi_0    pypi\n",
      "tensorflow-gpu            1.13.1                   pypi_0    pypi\n",
      "tensorflow-probability    0.6.0                    pypi_0    pypi\n",
      "termcolor                 1.1.0                    pypi_0    pypi\n",
      "terminado                 0.9.4            py36haa95532_0  \n",
      "testpath                  0.5.0              pyhd3eb1b0_0  \n",
      "toolz                     0.9.0                    pypi_0    pypi\n",
      "tornado                   6.1              py36h2bbff1b_0  \n",
      "tqdm                      4.47.0                   pypi_0    pypi\n",
      "traitlets                 4.3.3            py36haa95532_0  \n",
      "typing                    3.7.4.1                  pypi_0    pypi\n",
      "typing-extensions         3.7.4.2                  pypi_0    pypi\n",
      "typing_extensions         3.10.0.2           pyh06a4308_0  \n",
      "uritemplate               3.0.0                    pypi_0    pypi\n",
      "urllib3                   1.24.3                   pypi_0    pypi\n",
      "vc                        14.2                 h21ff451_1  \n",
      "vs2015_runtime            14.27.29016          h5e58377_2  \n",
      "wcwidth                   0.1.9                    pypi_0    pypi\n",
      "webencodings              0.5.1                    py36_1  \n",
      "werkzeug                  0.14.1                   pypi_0    pypi\n",
      "wheel                     0.37.0             pyhd3eb1b0_1  \n",
      "widgetsnbextension        3.5.1                    py36_0  \n",
      "wincertstore              0.2              py36h7fe50ca_0  \n",
      "winpty                    0.4.3                         4  \n",
      "yarl                      1.4.2                    pypi_0    pypi\n",
      "zipp                      3.1.0                    pypi_0    pypi\n",
      "zlib                      1.2.11               h62dcd97_4  \n"
     ]
    }
   ],
   "source": [
    "!conda list"
   ]
  },
  {
   "cell_type": "code",
   "execution_count": null,
   "id": "cc350df2",
   "metadata": {},
   "outputs": [
    {
     "name": "stderr",
     "output_type": "stream",
     "text": [
      "C:\\anaconda3\\envs\\RLV\\lib\\site-packages\\tensorflow\\python\\framework\\dtypes.py:526: FutureWarning: Passing (type, 1) or '1type' as a synonym of type is deprecated; in a future version of numpy, it will be understood as (type, (1,)) / '(1,)type'.\n",
      "  _np_qint8 = np.dtype([(\"qint8\", np.int8, 1)])\n",
      "C:\\anaconda3\\envs\\RLV\\lib\\site-packages\\tensorflow\\python\\framework\\dtypes.py:527: FutureWarning: Passing (type, 1) or '1type' as a synonym of type is deprecated; in a future version of numpy, it will be understood as (type, (1,)) / '(1,)type'.\n",
      "  _np_quint8 = np.dtype([(\"quint8\", np.uint8, 1)])\n",
      "C:\\anaconda3\\envs\\RLV\\lib\\site-packages\\tensorflow\\python\\framework\\dtypes.py:528: FutureWarning: Passing (type, 1) or '1type' as a synonym of type is deprecated; in a future version of numpy, it will be understood as (type, (1,)) / '(1,)type'.\n",
      "  _np_qint16 = np.dtype([(\"qint16\", np.int16, 1)])\n",
      "C:\\anaconda3\\envs\\RLV\\lib\\site-packages\\tensorflow\\python\\framework\\dtypes.py:529: FutureWarning: Passing (type, 1) or '1type' as a synonym of type is deprecated; in a future version of numpy, it will be understood as (type, (1,)) / '(1,)type'.\n",
      "  _np_quint16 = np.dtype([(\"quint16\", np.uint16, 1)])\n",
      "C:\\anaconda3\\envs\\RLV\\lib\\site-packages\\tensorflow\\python\\framework\\dtypes.py:530: FutureWarning: Passing (type, 1) or '1type' as a synonym of type is deprecated; in a future version of numpy, it will be understood as (type, (1,)) / '(1,)type'.\n",
      "  _np_qint32 = np.dtype([(\"qint32\", np.int32, 1)])\n",
      "C:\\anaconda3\\envs\\RLV\\lib\\site-packages\\tensorflow\\python\\framework\\dtypes.py:535: FutureWarning: Passing (type, 1) or '1type' as a synonym of type is deprecated; in a future version of numpy, it will be understood as (type, (1,)) / '(1,)type'.\n",
      "  np_resource = np.dtype([(\"resource\", np.ubyte, 1)])\n"
     ]
    }
   ],
   "source": [
    "from tensorflow.python.client import device_lib\n",
    "print(device_lib.list_local_devices())"
   ]
  },
  {
   "cell_type": "code",
   "execution_count": 1,
   "id": "8dd8b761",
   "metadata": {},
   "outputs": [
    {
     "name": "stderr",
     "output_type": "stream",
     "text": [
      "C:\\anaconda3\\envs\\RLV\\lib\\site-packages\\tensorflow\\python\\framework\\dtypes.py:526: FutureWarning: Passing (type, 1) or '1type' as a synonym of type is deprecated; in a future version of numpy, it will be understood as (type, (1,)) / '(1,)type'.\n",
      "  _np_qint8 = np.dtype([(\"qint8\", np.int8, 1)])\n",
      "C:\\anaconda3\\envs\\RLV\\lib\\site-packages\\tensorflow\\python\\framework\\dtypes.py:527: FutureWarning: Passing (type, 1) or '1type' as a synonym of type is deprecated; in a future version of numpy, it will be understood as (type, (1,)) / '(1,)type'.\n",
      "  _np_quint8 = np.dtype([(\"quint8\", np.uint8, 1)])\n",
      "C:\\anaconda3\\envs\\RLV\\lib\\site-packages\\tensorflow\\python\\framework\\dtypes.py:528: FutureWarning: Passing (type, 1) or '1type' as a synonym of type is deprecated; in a future version of numpy, it will be understood as (type, (1,)) / '(1,)type'.\n",
      "  _np_qint16 = np.dtype([(\"qint16\", np.int16, 1)])\n",
      "C:\\anaconda3\\envs\\RLV\\lib\\site-packages\\tensorflow\\python\\framework\\dtypes.py:529: FutureWarning: Passing (type, 1) or '1type' as a synonym of type is deprecated; in a future version of numpy, it will be understood as (type, (1,)) / '(1,)type'.\n",
      "  _np_quint16 = np.dtype([(\"quint16\", np.uint16, 1)])\n",
      "C:\\anaconda3\\envs\\RLV\\lib\\site-packages\\tensorflow\\python\\framework\\dtypes.py:530: FutureWarning: Passing (type, 1) or '1type' as a synonym of type is deprecated; in a future version of numpy, it will be understood as (type, (1,)) / '(1,)type'.\n",
      "  _np_qint32 = np.dtype([(\"qint32\", np.int32, 1)])\n",
      "C:\\anaconda3\\envs\\RLV\\lib\\site-packages\\tensorflow\\python\\framework\\dtypes.py:535: FutureWarning: Passing (type, 1) or '1type' as a synonym of type is deprecated; in a future version of numpy, it will be understood as (type, (1,)) / '(1,)type'.\n",
      "  np_resource = np.dtype([(\"resource\", np.ubyte, 1)])\n"
     ]
    }
   ],
   "source": [
    "import tensorflow as tf"
   ]
  },
  {
   "cell_type": "code",
   "execution_count": 2,
   "id": "09c27c86",
   "metadata": {},
   "outputs": [
    {
     "data": {
      "text/plain": [
       "True"
      ]
     },
     "execution_count": 2,
     "metadata": {},
     "output_type": "execute_result"
    }
   ],
   "source": [
    "tf.test.is_gpu_available()"
   ]
  },
  {
   "cell_type": "code",
   "execution_count": null,
   "id": "b855172c",
   "metadata": {},
   "outputs": [],
   "source": []
  }
 ],
 "metadata": {
  "kernelspec": {
   "display_name": "PyCharm (rl_with_videos)",
   "language": "python",
   "name": "pycharm-bf47c1c6"
  },
  "language_info": {
   "codemirror_mode": {
    "name": "ipython",
    "version": 3
   },
   "file_extension": ".py",
   "mimetype": "text/x-python",
   "name": "python",
   "nbconvert_exporter": "python",
   "pygments_lexer": "ipython3",
   "version": "3.6.13"
  }
 },
 "nbformat": 4,
 "nbformat_minor": 5
}
