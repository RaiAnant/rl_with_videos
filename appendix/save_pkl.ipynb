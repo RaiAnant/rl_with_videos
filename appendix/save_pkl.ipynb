{
 "cells": [
  {
   "cell_type": "code",
   "execution_count": 1,
   "id": "ace85328",
   "metadata": {},
   "outputs": [
    {
     "name": "stderr",
     "output_type": "stream",
     "text": [
      "C:\\Users\\irohc\\anaconda3\\envs\\drl_proj\\lib\\site-packages\\tensorflow\\python\\framework\\dtypes.py:526: FutureWarning: Passing (type, 1) or '1type' as a synonym of type is deprecated; in a future version of numpy, it will be understood as (type, (1,)) / '(1,)type'.\n",
      "  _np_qint8 = np.dtype([(\"qint8\", np.int8, 1)])\n",
      "C:\\Users\\irohc\\anaconda3\\envs\\drl_proj\\lib\\site-packages\\tensorflow\\python\\framework\\dtypes.py:527: FutureWarning: Passing (type, 1) or '1type' as a synonym of type is deprecated; in a future version of numpy, it will be understood as (type, (1,)) / '(1,)type'.\n",
      "  _np_quint8 = np.dtype([(\"quint8\", np.uint8, 1)])\n",
      "C:\\Users\\irohc\\anaconda3\\envs\\drl_proj\\lib\\site-packages\\tensorflow\\python\\framework\\dtypes.py:528: FutureWarning: Passing (type, 1) or '1type' as a synonym of type is deprecated; in a future version of numpy, it will be understood as (type, (1,)) / '(1,)type'.\n",
      "  _np_qint16 = np.dtype([(\"qint16\", np.int16, 1)])\n",
      "C:\\Users\\irohc\\anaconda3\\envs\\drl_proj\\lib\\site-packages\\tensorflow\\python\\framework\\dtypes.py:529: FutureWarning: Passing (type, 1) or '1type' as a synonym of type is deprecated; in a future version of numpy, it will be understood as (type, (1,)) / '(1,)type'.\n",
      "  _np_quint16 = np.dtype([(\"quint16\", np.uint16, 1)])\n",
      "C:\\Users\\irohc\\anaconda3\\envs\\drl_proj\\lib\\site-packages\\tensorflow\\python\\framework\\dtypes.py:530: FutureWarning: Passing (type, 1) or '1type' as a synonym of type is deprecated; in a future version of numpy, it will be understood as (type, (1,)) / '(1,)type'.\n",
      "  _np_qint32 = np.dtype([(\"qint32\", np.int32, 1)])\n",
      "C:\\Users\\irohc\\anaconda3\\envs\\drl_proj\\lib\\site-packages\\tensorflow\\python\\framework\\dtypes.py:535: FutureWarning: Passing (type, 1) or '1type' as a synonym of type is deprecated; in a future version of numpy, it will be understood as (type, (1,)) / '(1,)type'.\n",
      "  np_resource = np.dtype([(\"resource\", np.ubyte, 1)])\n"
     ]
    }
   ],
   "source": [
    "from tensorflow_docs.vis import embed\n",
    "from tensorflow import keras\n",
    "from tensorflow.keras import backend as K\n",
    "from imutils import paths\n",
    "\n",
    "import gzip\n",
    "import pickle\n",
    "import matplotlib.pyplot as plt\n",
    "import tensorflow as tf\n",
    "import pandas as pd\n",
    "import numpy as np\n",
    "import imageio\n",
    "import cv2\n",
    "import os\n",
    "\n",
    "from rl_with_videos.preprocessors.convnet import convnet_preprocessor"
   ]
  },
  {
   "cell_type": "code",
   "execution_count": 2,
   "id": "e1708ea0",
   "metadata": {},
   "outputs": [],
   "source": [
    "POSITIVE_PATH = \"C:/nyu/DRL/final_project/dataset/acrobot-975-1000.pkl\"\n",
    "NEGATIVE_PATH = \"C:/nyu/DRL/final_project/dataset/acrobot-25-50.pkl\"\n",
    "\n",
    "MAX_SEQ_LENGTH = 30\n",
    "\n",
    "def load_sequence(VIDEO_PATH):\n",
    "    with gzip.open(VIDEO_PATH, 'rb') as f:\n",
    "        latest_samples = pickle.load(f)\n",
    "\n",
    "    key = list(latest_samples.keys())[0]\n",
    "    num_samples = latest_samples[key].shape[0]\n",
    "    for field_name, data in latest_samples.items():\n",
    "        assert data.shape[0] == num_samples, data.shape\n",
    "    \n",
    "    return latest_samples"
   ]
  },
  {
   "cell_type": "code",
   "execution_count": 3,
   "id": "26f6355c",
   "metadata": {},
   "outputs": [],
   "source": [
    "p_sample = load_sequence(POSITIVE_PATH)\n",
    "n_sample = load_sequence(NEGATIVE_PATH)"
   ]
  },
  {
   "cell_type": "code",
   "execution_count": 4,
   "id": "7e354afb",
   "metadata": {},
   "outputs": [],
   "source": [
    "p_size = p_sample['observations'].shape[0]\n",
    "n_size = n_sample['observations'].shape[0]"
   ]
  },
  {
   "cell_type": "code",
   "execution_count": 5,
   "id": "81189efa",
   "metadata": {},
   "outputs": [],
   "source": [
    "def prepare_input(x_sample, x_size):\n",
    "    input_x = []\n",
    "    seq = []\n",
    "    for i in range(0, x_size):\n",
    "        seq.append(x_sample['observations'][i])\n",
    "        if(x_sample['terminals'][i]):\n",
    "            seq = np.array(seq)\n",
    "            select_frame = np.linspace(0, seq.shape[0]-1, MAX_SEQ_LENGTH,endpoint=True,retstep=True,dtype=int)[0]\n",
    "            input_x.append(seq[select_frame])\n",
    "            seq = []\n",
    "    return np.array(input_x)\n",
    "\n",
    "def merge_input(p_input, n_input):\n",
    "    input_batch = []\n",
    "    label = []\n",
    "    for i in range(p_input.shape[0]):\n",
    "        input_batch.append(p_input[i])\n",
    "        label.append([1])\n",
    "    for i in range(n_input.shape[0]):\n",
    "        input_batch.append(n_input[i])\n",
    "        label.append([0])\n",
    "    \n",
    "    input_batch = np.array(input_batch).astype('float32')\n",
    "    label = np.array(label)\n",
    "    return input_batch, label"
   ]
  },
  {
   "cell_type": "code",
   "execution_count": 6,
   "id": "284cff5e",
   "metadata": {},
   "outputs": [],
   "source": [
    "p_input = prepare_input(p_sample, p_size)\n",
    "n_input = prepare_input(n_sample, n_size)"
   ]
  },
  {
   "cell_type": "code",
   "execution_count": 7,
   "id": "f6fad072",
   "metadata": {},
   "outputs": [],
   "source": [
    "train_x, train_y = merge_input(p_input, n_input)"
   ]
  },
  {
   "cell_type": "code",
   "execution_count": 8,
   "id": "8e3b7a75",
   "metadata": {},
   "outputs": [
    {
     "data": {
      "text/plain": [
       "(1287, 30, 6)"
      ]
     },
     "execution_count": 8,
     "metadata": {},
     "output_type": "execute_result"
    }
   ],
   "source": [
    "train_x.shape"
   ]
  },
  {
   "cell_type": "code",
   "execution_count": 9,
   "id": "a4f75bd6",
   "metadata": {},
   "outputs": [
    {
     "data": {
      "text/plain": [
       "(1287, 1)"
      ]
     },
     "execution_count": 9,
     "metadata": {},
     "output_type": "execute_result"
    }
   ],
   "source": [
    "train_y.shape"
   ]
  },
  {
   "cell_type": "code",
   "execution_count": 10,
   "id": "0d7f6865",
   "metadata": {},
   "outputs": [],
   "source": [
    "save_dict = {}\n",
    "save_dict['sequences'] = train_x\n",
    "save_dict['done'] = train_y"
   ]
  },
  {
   "cell_type": "code",
   "execution_count": 11,
   "id": "e646bdb4",
   "metadata": {},
   "outputs": [],
   "source": [
    "output = open('acrobot_sequence.pkl', 'wb')"
   ]
  },
  {
   "cell_type": "code",
   "execution_count": 12,
   "id": "0d117f79",
   "metadata": {},
   "outputs": [
    {
     "data": {
      "text/plain": [
       "858802"
      ]
     },
     "execution_count": 12,
     "metadata": {},
     "output_type": "execute_result"
    }
   ],
   "source": [
    "output.write(gzip.compress(pickle.dumps(save_dict)))"
   ]
  },
  {
   "cell_type": "code",
   "execution_count": 13,
   "id": "47fae780",
   "metadata": {},
   "outputs": [],
   "source": [
    "pickle.dump(save_dict, output)"
   ]
  },
  {
   "cell_type": "code",
   "execution_count": 14,
   "id": "8a865399",
   "metadata": {},
   "outputs": [],
   "source": [
    "with gzip.open('./acrobot_sequence.pkl', 'rb') as f:\n",
    "    latest_samples = pickle.load(f)"
   ]
  },
  {
   "cell_type": "code",
   "execution_count": 15,
   "id": "21158491",
   "metadata": {},
   "outputs": [],
   "source": [
    "key = list(latest_samples.keys())[0]\n",
    "num_samples = latest_samples[key].shape[0]"
   ]
  },
  {
   "cell_type": "code",
   "execution_count": 16,
   "id": "4a784d1c",
   "metadata": {},
   "outputs": [
    {
     "data": {
      "text/plain": [
       "'sequences'"
      ]
     },
     "execution_count": 16,
     "metadata": {},
     "output_type": "execute_result"
    }
   ],
   "source": [
    "key"
   ]
  },
  {
   "cell_type": "code",
   "execution_count": 17,
   "id": "a7bdc25d",
   "metadata": {},
   "outputs": [
    {
     "name": "stdout",
     "output_type": "stream",
     "text": [
      "(1287, 30, 6)\n",
      "(1287, 1)\n"
     ]
    }
   ],
   "source": [
    "for field_name, data in latest_samples.items():\n",
    "    print(data.shape)\n",
    "    assert data.shape[0] == num_samples, data.shape"
   ]
  },
  {
   "cell_type": "code",
   "execution_count": 18,
   "id": "8120cbf2",
   "metadata": {},
   "outputs": [],
   "source": [
    "values = latest_samples.get('done')"
   ]
  },
  {
   "cell_type": "code",
   "execution_count": 19,
   "id": "28689603",
   "metadata": {},
   "outputs": [
    {
     "data": {
      "text/plain": [
       "array([[1],\n",
       "       [1],\n",
       "       [1],\n",
       "       ...,\n",
       "       [0],\n",
       "       [0],\n",
       "       [0]])"
      ]
     },
     "execution_count": 19,
     "metadata": {},
     "output_type": "execute_result"
    }
   ],
   "source": [
    "values"
   ]
  }
 ],
 "metadata": {
  "kernelspec": {
   "display_name": "drl_proj",
   "language": "python",
   "name": "drl_proj"
  },
  "language_info": {
   "codemirror_mode": {
    "name": "ipython",
    "version": 3
   },
   "file_extension": ".py",
   "mimetype": "text/x-python",
   "name": "python",
   "nbconvert_exporter": "python",
   "pygments_lexer": "ipython3",
   "version": "3.7.11"
  }
 },
 "nbformat": 4,
 "nbformat_minor": 5
}
